{
  "nbformat": 4,
  "nbformat_minor": 0,
  "metadata": {
    "colab": {
      "name": "JSON based UMS",
      "provenance": []
    },
    "kernelspec": {
      "name": "python3",
      "display_name": "Python 3"
    },
    "language_info": {
      "name": "python"
    }
  },
  "cells": [
    {
      "cell_type": "code",
      "metadata": {
        "id": "SimCWmcWi0s5"
      },
      "source": [
        "record = { 11602259 : {\"name\": \"Ashish Jangra\" , \"Pno\": 1234, \"cgpa\" : 7.5},\n",
        "           11602260 : {\"name\": \"Gurpreet Singh\", \"Pno\": 5678, \"cgpa\" : 8},\n",
        "           11602261 : {\"name\": \"Rishu Kumar\"   , \"Pno\": 8984, \"cgpa\" : 7.8}}"
      ],
      "execution_count": 64,
      "outputs": []
    },
    {
      "cell_type": "code",
      "metadata": {
        "colab": {
          "base_uri": "https://localhost:8080/"
        },
        "id": "s2VuzKe6Vz0_",
        "outputId": "59f55095-b4ce-438d-9352-2e7129da64a2"
      },
      "source": [
        "reg = 11602260\n",
        "\n",
        "print(record[reg]['name'])\n",
        "print(record[reg]['Pno'])\n",
        "print(record[reg]['cgpa'])"
      ],
      "execution_count": 59,
      "outputs": [
        {
          "output_type": "stream",
          "name": "stdout",
          "text": [
            "Gurpreet Singh\n",
            "5678\n",
            "8.2\n"
          ]
        }
      ]
    },
    {
      "cell_type": "code",
      "metadata": {
        "id": "oj3OmNRYkfEQ"
      },
      "source": [
        "record[11602260]['Pno'] = 999"
      ],
      "execution_count": 62,
      "outputs": []
    },
    {
      "cell_type": "code",
      "metadata": {
        "colab": {
          "base_uri": "https://localhost:8080/"
        },
        "id": "_fzlbrWvkfRG",
        "outputId": "049917ea-df45-40d1-a2d9-a846ee2832d1"
      },
      "source": [
        "record"
      ],
      "execution_count": 65,
      "outputs": [
        {
          "output_type": "execute_result",
          "data": {
            "text/plain": [
              "{11602259: {'Pno': 5678, 'cgpa': 8.2, 'name': 'Gurpreet Singh'},\n",
              " 11602261: {'Pno': 8984, 'cgpa': 7.8, 'name': 'Rishu Kumar'}}"
            ]
          },
          "metadata": {},
          "execution_count": 65
        }
      ]
    },
    {
      "cell_type": "code",
      "metadata": {
        "id": "DQbyOIOOYD-Z"
      },
      "source": [
        "record = { 11602259 : {\"name\": \"Ashish Jangra\" , \"Pno\": 1234, \"cgpa\" : 7.5},\n",
        "           11602260 : {\"name\": \"Gurpreet Singh\", \"Pno\": 5678, \"cgpa\" : 8.2},\n",
        "           11602261 : {\"name\": \"Rishu Kumar\"   , \"Pno\": 8984, \"cgpa\" : 7.8}}"
      ],
      "execution_count": null,
      "outputs": []
    },
    {
      "cell_type": "code",
      "metadata": {
        "id": "GnZedQXvZncV"
      },
      "source": [
        "import json"
      ],
      "execution_count": 67,
      "outputs": []
    },
    {
      "cell_type": "code",
      "metadata": {
        "id": "B50KFXNhZuCH"
      },
      "source": [
        "js = json.dumps(record)"
      ],
      "execution_count": 68,
      "outputs": []
    },
    {
      "cell_type": "code",
      "metadata": {
        "colab": {
          "base_uri": "https://localhost:8080/",
          "height": 52
        },
        "id": "ip8ZcEIRZzEq",
        "outputId": "d78c29c4-f584-4d28-a952-46bdbfa2fe72"
      },
      "source": [
        "js"
      ],
      "execution_count": 69,
      "outputs": [
        {
          "output_type": "execute_result",
          "data": {
            "application/vnd.google.colaboratory.intrinsic+json": {
              "type": "string"
            },
            "text/plain": [
              "'{\"11602259\": {\"name\": \"Gurpreet Singh\", \"Pno\": 5678, \"cgpa\": 8.2}, \"11602261\": {\"name\": \"Rishu Kumar\", \"Pno\": 8984, \"cgpa\": 7.8}}'"
            ]
          },
          "metadata": {},
          "execution_count": 69
        }
      ]
    },
    {
      "cell_type": "code",
      "metadata": {
        "colab": {
          "base_uri": "https://localhost:8080/"
        },
        "id": "4gf1WCRLaXfa",
        "outputId": "59000a2d-9061-4960-94cb-9a558c1bb5df"
      },
      "source": [
        "record"
      ],
      "execution_count": 73,
      "outputs": [
        {
          "output_type": "execute_result",
          "data": {
            "text/plain": [
              "{11602259: {'Pno': 5678, 'cgpa': 8.2, 'name': 'Gurpreet Singh'},\n",
              " 11602261: {'Pno': 8984, 'cgpa': 7.8, 'name': 'Rishu Kumar'}}"
            ]
          },
          "metadata": {},
          "execution_count": 73
        }
      ]
    },
    {
      "cell_type": "code",
      "metadata": {
        "colab": {
          "base_uri": "https://localhost:8080/"
        },
        "id": "3lSt3ACGaYQ_",
        "outputId": "b0f80a12-41d7-46d0-b7b7-a575139f7f62"
      },
      "source": [
        "type(js)"
      ],
      "execution_count": 71,
      "outputs": [
        {
          "output_type": "execute_result",
          "data": {
            "text/plain": [
              "str"
            ]
          },
          "metadata": {},
          "execution_count": 71
        }
      ]
    },
    {
      "cell_type": "code",
      "metadata": {
        "colab": {
          "base_uri": "https://localhost:8080/"
        },
        "id": "4s1t69dtacak",
        "outputId": "27bdbdd2-80da-4cc7-ef24-6e73470c626e"
      },
      "source": [
        "type(record)"
      ],
      "execution_count": 36,
      "outputs": [
        {
          "output_type": "execute_result",
          "data": {
            "text/plain": [
              "dict"
            ]
          },
          "metadata": {},
          "execution_count": 36
        }
      ]
    },
    {
      "cell_type": "code",
      "metadata": {
        "id": "1zShzE_uad9A"
      },
      "source": [
        "fd = open(\"record.txt\",'w')\n",
        "\n",
        "fd.write(js)\n",
        "\n",
        "fd.close()"
      ],
      "execution_count": 77,
      "outputs": []
    },
    {
      "cell_type": "code",
      "metadata": {
        "id": "XPO-SFEMa6e9"
      },
      "source": [
        "fd = open(\"record.txt\",'r')\n",
        "\n",
        "txt = fd.read()\n",
        "\n",
        "fd.close()"
      ],
      "execution_count": 75,
      "outputs": []
    },
    {
      "cell_type": "code",
      "metadata": {
        "colab": {
          "base_uri": "https://localhost:8080/",
          "height": 52
        },
        "id": "beJ863Wwo9RX",
        "outputId": "22f75014-7d4c-46de-ed8f-1f57285e1e5f"
      },
      "source": [
        "txt"
      ],
      "execution_count": 76,
      "outputs": [
        {
          "output_type": "execute_result",
          "data": {
            "application/vnd.google.colaboratory.intrinsic+json": {
              "type": "string"
            },
            "text/plain": [
              "'{\"11602259\": {\"name\": \"Gurpreet Singh\", \"Pno\": 5678, \"cgpa\": 8.2}, \"11602261\": {\"name\": \"Rishu Kumar\", \"Pno\": 8984, \"cgpa\": 7.8}}'"
            ]
          },
          "metadata": {},
          "execution_count": 76
        }
      ]
    },
    {
      "cell_type": "code",
      "metadata": {
        "id": "iHg0qnn7bBWQ"
      },
      "source": [
        "record = json.loads(txt)"
      ],
      "execution_count": 41,
      "outputs": []
    },
    {
      "cell_type": "code",
      "metadata": {
        "colab": {
          "base_uri": "https://localhost:8080/"
        },
        "id": "T1wd9FbqbDWv",
        "outputId": "b693f4b1-6697-4098-c305-56dceb85c32c"
      },
      "source": [
        "record"
      ],
      "execution_count": 42,
      "outputs": [
        {
          "output_type": "execute_result",
          "data": {
            "text/plain": [
              "{'11602259': {'Pno': 1234, 'cgpa': 7.5, 'name': 'Ashish Jangra'},\n",
              " '11602260': {'Pno': 5678,\n",
              "  'cgpa': 4.199999999999999,\n",
              "  'name': 'Gurpreet Singh'},\n",
              " '11602261': {'Pno': 8984, 'cgpa': 7.8, 'name': 'Rishu Kumar'}}"
            ]
          },
          "metadata": {},
          "execution_count": 42
        }
      ]
    },
    {
      "cell_type": "code",
      "metadata": {
        "colab": {
          "base_uri": "https://localhost:8080/"
        },
        "id": "LYPqrTgtbPWL",
        "outputId": "cb001b72-9dd4-4c1f-fe17-d17ee3324ef7"
      },
      "source": [
        "record['11602259']"
      ],
      "execution_count": 44,
      "outputs": [
        {
          "output_type": "execute_result",
          "data": {
            "text/plain": [
              "{'Pno': 1234, 'cgpa': 7.5, 'name': 'Ashish Jangra'}"
            ]
          },
          "metadata": {},
          "execution_count": 44
        }
      ]
    },
    {
      "cell_type": "code",
      "metadata": {
        "id": "vhH1wMYDbU16"
      },
      "source": [
        "import time"
      ],
      "execution_count": 45,
      "outputs": []
    },
    {
      "cell_type": "code",
      "metadata": {
        "colab": {
          "base_uri": "https://localhost:8080/",
          "height": 35
        },
        "id": "Rmr2z1AKcAum",
        "outputId": "6852095a-c20a-4870-c22e-5e38a57a7a7f"
      },
      "source": [
        "time.ctime()"
      ],
      "execution_count": 46,
      "outputs": [
        {
          "output_type": "execute_result",
          "data": {
            "application/vnd.google.colaboratory.intrinsic+json": {
              "type": "string"
            },
            "text/plain": [
              "'Tue Aug 31 13:40:02 2021'"
            ]
          },
          "metadata": {},
          "execution_count": 46
        }
      ]
    },
    {
      "cell_type": "code",
      "metadata": {
        "colab": {
          "base_uri": "https://localhost:8080/"
        },
        "id": "2oxCQoa-cCZI",
        "outputId": "fd1709a1-27cb-44ca-9ab8-d6d4e5611d77"
      },
      "source": [
        "record.values()"
      ],
      "execution_count": 49,
      "outputs": [
        {
          "output_type": "execute_result",
          "data": {
            "text/plain": [
              "dict_values([{'name': 'Ashish Jangra', 'Pno': 1234, 'cgpa': 7.5}, {'name': 'Gurpreet Singh', 'Pno': 5678, 'cgpa': 4.199999999999999}, {'name': 'Rishu Kumar', 'Pno': 8984, 'cgpa': 7.8}])"
            ]
          },
          "metadata": {},
          "execution_count": 49
        }
      ]
    }
  ]
}