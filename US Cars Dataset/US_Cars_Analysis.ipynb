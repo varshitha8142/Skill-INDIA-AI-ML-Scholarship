{
  "nbformat": 4,
  "nbformat_minor": 0,
  "metadata": {
    "colab": {
      "name": "US Cars Analysis",
      "provenance": []
    },
    "kernelspec": {
      "name": "python3",
      "display_name": "Python 3"
    },
    "language_info": {
      "name": "python"
    }
  },
  "cells": [
    {
      "cell_type": "code",
      "metadata": {
        "id": "L9OiyQHo3YhE"
      },
      "source": [
        "import pandas as pd"
      ],
      "execution_count": 61,
      "outputs": []
    },
    {
      "cell_type": "code",
      "metadata": {
        "id": "xM4nKtiR3xe-"
      },
      "source": [
        "df = pd.read_csv(\"USA_cars_datasets.csv\")"
      ],
      "execution_count": 72,
      "outputs": []
    },
    {
      "cell_type": "code",
      "metadata": {
        "colab": {
          "base_uri": "https://localhost:8080/",
          "height": 204
        },
        "id": "9plDgqp94Bge",
        "outputId": "388d20ae-1166-46ca-e445-6ffd087f2545"
      },
      "source": [
        "df.head()"
      ],
      "execution_count": 73,
      "outputs": [
        {
          "output_type": "execute_result",
          "data": {
            "text/html": [
              "<div>\n",
              "<style scoped>\n",
              "    .dataframe tbody tr th:only-of-type {\n",
              "        vertical-align: middle;\n",
              "    }\n",
              "\n",
              "    .dataframe tbody tr th {\n",
              "        vertical-align: top;\n",
              "    }\n",
              "\n",
              "    .dataframe thead th {\n",
              "        text-align: right;\n",
              "    }\n",
              "</style>\n",
              "<table border=\"1\" class=\"dataframe\">\n",
              "  <thead>\n",
              "    <tr style=\"text-align: right;\">\n",
              "      <th></th>\n",
              "      <th>Unnamed: 0</th>\n",
              "      <th>price</th>\n",
              "      <th>brand</th>\n",
              "      <th>model</th>\n",
              "      <th>year</th>\n",
              "      <th>title_status</th>\n",
              "      <th>mileage</th>\n",
              "      <th>color</th>\n",
              "      <th>vin</th>\n",
              "      <th>lot</th>\n",
              "      <th>state</th>\n",
              "      <th>country</th>\n",
              "      <th>condition</th>\n",
              "    </tr>\n",
              "  </thead>\n",
              "  <tbody>\n",
              "    <tr>\n",
              "      <th>0</th>\n",
              "      <td>0</td>\n",
              "      <td>6300</td>\n",
              "      <td>toyota</td>\n",
              "      <td>cruiser</td>\n",
              "      <td>2008</td>\n",
              "      <td>clean vehicle</td>\n",
              "      <td>274117.0</td>\n",
              "      <td>black</td>\n",
              "      <td>jtezu11f88k007763</td>\n",
              "      <td>159348797</td>\n",
              "      <td>new jersey</td>\n",
              "      <td>usa</td>\n",
              "      <td>10 days left</td>\n",
              "    </tr>\n",
              "    <tr>\n",
              "      <th>1</th>\n",
              "      <td>1</td>\n",
              "      <td>2899</td>\n",
              "      <td>ford</td>\n",
              "      <td>se</td>\n",
              "      <td>2011</td>\n",
              "      <td>clean vehicle</td>\n",
              "      <td>190552.0</td>\n",
              "      <td>silver</td>\n",
              "      <td>2fmdk3gc4bbb02217</td>\n",
              "      <td>166951262</td>\n",
              "      <td>tennessee</td>\n",
              "      <td>usa</td>\n",
              "      <td>6 days left</td>\n",
              "    </tr>\n",
              "    <tr>\n",
              "      <th>2</th>\n",
              "      <td>2</td>\n",
              "      <td>5350</td>\n",
              "      <td>dodge</td>\n",
              "      <td>mpv</td>\n",
              "      <td>2018</td>\n",
              "      <td>clean vehicle</td>\n",
              "      <td>39590.0</td>\n",
              "      <td>silver</td>\n",
              "      <td>3c4pdcgg5jt346413</td>\n",
              "      <td>167655728</td>\n",
              "      <td>georgia</td>\n",
              "      <td>usa</td>\n",
              "      <td>2 days left</td>\n",
              "    </tr>\n",
              "    <tr>\n",
              "      <th>3</th>\n",
              "      <td>3</td>\n",
              "      <td>25000</td>\n",
              "      <td>ford</td>\n",
              "      <td>door</td>\n",
              "      <td>2014</td>\n",
              "      <td>clean vehicle</td>\n",
              "      <td>64146.0</td>\n",
              "      <td>blue</td>\n",
              "      <td>1ftfw1et4efc23745</td>\n",
              "      <td>167753855</td>\n",
              "      <td>virginia</td>\n",
              "      <td>usa</td>\n",
              "      <td>22 hours left</td>\n",
              "    </tr>\n",
              "    <tr>\n",
              "      <th>4</th>\n",
              "      <td>4</td>\n",
              "      <td>27700</td>\n",
              "      <td>chevrolet</td>\n",
              "      <td>1500</td>\n",
              "      <td>2018</td>\n",
              "      <td>clean vehicle</td>\n",
              "      <td>6654.0</td>\n",
              "      <td>red</td>\n",
              "      <td>3gcpcrec2jg473991</td>\n",
              "      <td>167763266</td>\n",
              "      <td>florida</td>\n",
              "      <td>usa</td>\n",
              "      <td>22 hours left</td>\n",
              "    </tr>\n",
              "  </tbody>\n",
              "</table>\n",
              "</div>"
            ],
            "text/plain": [
              "   Unnamed: 0  price      brand  ...       state  country      condition\n",
              "0           0   6300     toyota  ...  new jersey      usa   10 days left\n",
              "1           1   2899       ford  ...   tennessee      usa    6 days left\n",
              "2           2   5350      dodge  ...     georgia      usa    2 days left\n",
              "3           3  25000       ford  ...    virginia      usa  22 hours left\n",
              "4           4  27700  chevrolet  ...     florida      usa  22 hours left\n",
              "\n",
              "[5 rows x 13 columns]"
            ]
          },
          "metadata": {},
          "execution_count": 73
        }
      ]
    },
    {
      "cell_type": "code",
      "metadata": {
        "id": "yCS2DGZQ4FBn"
      },
      "source": [
        "del df['Unnamed: 0']\n",
        "del df['vin']\n",
        "del df['lot']\n",
        "del df['condition']"
      ],
      "execution_count": 74,
      "outputs": []
    },
    {
      "cell_type": "code",
      "metadata": {
        "colab": {
          "base_uri": "https://localhost:8080/",
          "height": 204
        },
        "id": "zwmBgz_O5x_A",
        "outputId": "1e1f0167-9743-4e06-c5c3-705c1dbb2693"
      },
      "source": [
        "df.head()"
      ],
      "execution_count": 121,
      "outputs": [
        {
          "output_type": "execute_result",
          "data": {
            "text/html": [
              "<div>\n",
              "<style scoped>\n",
              "    .dataframe tbody tr th:only-of-type {\n",
              "        vertical-align: middle;\n",
              "    }\n",
              "\n",
              "    .dataframe tbody tr th {\n",
              "        vertical-align: top;\n",
              "    }\n",
              "\n",
              "    .dataframe thead th {\n",
              "        text-align: right;\n",
              "    }\n",
              "</style>\n",
              "<table border=\"1\" class=\"dataframe\">\n",
              "  <thead>\n",
              "    <tr style=\"text-align: right;\">\n",
              "      <th></th>\n",
              "      <th>price</th>\n",
              "      <th>brand</th>\n",
              "      <th>model</th>\n",
              "      <th>year</th>\n",
              "      <th>title_status</th>\n",
              "      <th>mileage</th>\n",
              "      <th>color</th>\n",
              "      <th>state</th>\n",
              "      <th>country</th>\n",
              "    </tr>\n",
              "  </thead>\n",
              "  <tbody>\n",
              "    <tr>\n",
              "      <th>0</th>\n",
              "      <td>6300</td>\n",
              "      <td>toyota</td>\n",
              "      <td>cruiser</td>\n",
              "      <td>2008</td>\n",
              "      <td>clean vehicle</td>\n",
              "      <td>274117.0</td>\n",
              "      <td>black</td>\n",
              "      <td>new jersey</td>\n",
              "      <td>usa</td>\n",
              "    </tr>\n",
              "    <tr>\n",
              "      <th>1</th>\n",
              "      <td>2899</td>\n",
              "      <td>ford</td>\n",
              "      <td>se</td>\n",
              "      <td>2011</td>\n",
              "      <td>clean vehicle</td>\n",
              "      <td>190552.0</td>\n",
              "      <td>silver</td>\n",
              "      <td>tennessee</td>\n",
              "      <td>usa</td>\n",
              "    </tr>\n",
              "    <tr>\n",
              "      <th>2</th>\n",
              "      <td>5350</td>\n",
              "      <td>dodge</td>\n",
              "      <td>mpv</td>\n",
              "      <td>2018</td>\n",
              "      <td>clean vehicle</td>\n",
              "      <td>39590.0</td>\n",
              "      <td>silver</td>\n",
              "      <td>georgia</td>\n",
              "      <td>usa</td>\n",
              "    </tr>\n",
              "    <tr>\n",
              "      <th>3</th>\n",
              "      <td>25000</td>\n",
              "      <td>ford</td>\n",
              "      <td>door</td>\n",
              "      <td>2014</td>\n",
              "      <td>clean vehicle</td>\n",
              "      <td>64146.0</td>\n",
              "      <td>blue</td>\n",
              "      <td>virginia</td>\n",
              "      <td>usa</td>\n",
              "    </tr>\n",
              "    <tr>\n",
              "      <th>4</th>\n",
              "      <td>27700</td>\n",
              "      <td>chevrolet</td>\n",
              "      <td>1500</td>\n",
              "      <td>2018</td>\n",
              "      <td>clean vehicle</td>\n",
              "      <td>6654.0</td>\n",
              "      <td>red</td>\n",
              "      <td>florida</td>\n",
              "      <td>usa</td>\n",
              "    </tr>\n",
              "  </tbody>\n",
              "</table>\n",
              "</div>"
            ],
            "text/plain": [
              "   price      brand    model  year  ...   mileage   color       state country\n",
              "0   6300     toyota  cruiser  2008  ...  274117.0   black  new jersey     usa\n",
              "1   2899       ford       se  2011  ...  190552.0  silver   tennessee     usa\n",
              "2   5350      dodge      mpv  2018  ...   39590.0  silver     georgia     usa\n",
              "3  25000       ford     door  2014  ...   64146.0    blue    virginia     usa\n",
              "4  27700  chevrolet     1500  2018  ...    6654.0     red     florida     usa\n",
              "\n",
              "[5 rows x 9 columns]"
            ]
          },
          "metadata": {},
          "execution_count": 121
        }
      ]
    },
    {
      "cell_type": "code",
      "metadata": {
        "colab": {
          "base_uri": "https://localhost:8080/"
        },
        "id": "m3qVsA0ZB-Tk",
        "outputId": "bcc7565b-ff76-41f8-e1cd-a739eced3dc0"
      },
      "source": [
        "df['country'].unique()"
      ],
      "execution_count": 127,
      "outputs": [
        {
          "output_type": "execute_result",
          "data": {
            "text/plain": [
              "array([' usa', ' canada'], dtype=object)"
            ]
          },
          "metadata": {},
          "execution_count": 127
        }
      ]
    },
    {
      "cell_type": "code",
      "metadata": {
        "colab": {
          "base_uri": "https://localhost:8080/",
          "height": 266
        },
        "id": "uvceWJA5BTf-",
        "outputId": "fabb8858-a5d8-4bfa-c9b5-fea8eb7fc75d"
      },
      "source": [
        "df[df['country'] == ' canada']"
      ],
      "execution_count": 131,
      "outputs": [
        {
          "output_type": "execute_result",
          "data": {
            "text/html": [
              "<div>\n",
              "<style scoped>\n",
              "    .dataframe tbody tr th:only-of-type {\n",
              "        vertical-align: middle;\n",
              "    }\n",
              "\n",
              "    .dataframe tbody tr th {\n",
              "        vertical-align: top;\n",
              "    }\n",
              "\n",
              "    .dataframe thead th {\n",
              "        text-align: right;\n",
              "    }\n",
              "</style>\n",
              "<table border=\"1\" class=\"dataframe\">\n",
              "  <thead>\n",
              "    <tr style=\"text-align: right;\">\n",
              "      <th></th>\n",
              "      <th>price</th>\n",
              "      <th>brand</th>\n",
              "      <th>model</th>\n",
              "      <th>year</th>\n",
              "      <th>title_status</th>\n",
              "      <th>mileage</th>\n",
              "      <th>color</th>\n",
              "      <th>state</th>\n",
              "      <th>country</th>\n",
              "    </tr>\n",
              "  </thead>\n",
              "  <tbody>\n",
              "    <tr>\n",
              "      <th>261</th>\n",
              "      <td>33000</td>\n",
              "      <td>chevrolet</td>\n",
              "      <td>1500</td>\n",
              "      <td>2018</td>\n",
              "      <td>clean vehicle</td>\n",
              "      <td>52521.0</td>\n",
              "      <td>white</td>\n",
              "      <td>ontario</td>\n",
              "      <td>canada</td>\n",
              "    </tr>\n",
              "    <tr>\n",
              "      <th>813</th>\n",
              "      <td>30000</td>\n",
              "      <td>dodge</td>\n",
              "      <td>charger</td>\n",
              "      <td>2019</td>\n",
              "      <td>clean vehicle</td>\n",
              "      <td>43294.0</td>\n",
              "      <td>white</td>\n",
              "      <td>ontario</td>\n",
              "      <td>canada</td>\n",
              "    </tr>\n",
              "    <tr>\n",
              "      <th>814</th>\n",
              "      <td>30000</td>\n",
              "      <td>dodge</td>\n",
              "      <td>charger</td>\n",
              "      <td>2019</td>\n",
              "      <td>clean vehicle</td>\n",
              "      <td>54309.0</td>\n",
              "      <td>orange</td>\n",
              "      <td>ontario</td>\n",
              "      <td>canada</td>\n",
              "    </tr>\n",
              "    <tr>\n",
              "      <th>815</th>\n",
              "      <td>30000</td>\n",
              "      <td>dodge</td>\n",
              "      <td>charger</td>\n",
              "      <td>2019</td>\n",
              "      <td>clean vehicle</td>\n",
              "      <td>52822.0</td>\n",
              "      <td>white</td>\n",
              "      <td>ontario</td>\n",
              "      <td>canada</td>\n",
              "    </tr>\n",
              "    <tr>\n",
              "      <th>816</th>\n",
              "      <td>30000</td>\n",
              "      <td>dodge</td>\n",
              "      <td>charger</td>\n",
              "      <td>2019</td>\n",
              "      <td>clean vehicle</td>\n",
              "      <td>45554.0</td>\n",
              "      <td>white</td>\n",
              "      <td>ontario</td>\n",
              "      <td>canada</td>\n",
              "    </tr>\n",
              "    <tr>\n",
              "      <th>817</th>\n",
              "      <td>30000</td>\n",
              "      <td>dodge</td>\n",
              "      <td>charger</td>\n",
              "      <td>2019</td>\n",
              "      <td>clean vehicle</td>\n",
              "      <td>37538.0</td>\n",
              "      <td>white</td>\n",
              "      <td>ontario</td>\n",
              "      <td>canada</td>\n",
              "    </tr>\n",
              "    <tr>\n",
              "      <th>818</th>\n",
              "      <td>29500</td>\n",
              "      <td>dodge</td>\n",
              "      <td>charger</td>\n",
              "      <td>2019</td>\n",
              "      <td>clean vehicle</td>\n",
              "      <td>35153.0</td>\n",
              "      <td>red</td>\n",
              "      <td>ontario</td>\n",
              "      <td>canada</td>\n",
              "    </tr>\n",
              "  </tbody>\n",
              "</table>\n",
              "</div>"
            ],
            "text/plain": [
              "     price      brand    model  year  ...  mileage   color    state  country\n",
              "261  33000  chevrolet     1500  2018  ...  52521.0   white  ontario   canada\n",
              "813  30000      dodge  charger  2019  ...  43294.0   white  ontario   canada\n",
              "814  30000      dodge  charger  2019  ...  54309.0  orange  ontario   canada\n",
              "815  30000      dodge  charger  2019  ...  52822.0   white  ontario   canada\n",
              "816  30000      dodge  charger  2019  ...  45554.0   white  ontario   canada\n",
              "817  30000      dodge  charger  2019  ...  37538.0   white  ontario   canada\n",
              "818  29500      dodge  charger  2019  ...  35153.0     red  ontario   canada\n",
              "\n",
              "[7 rows x 9 columns]"
            ]
          },
          "metadata": {},
          "execution_count": 131
        }
      ]
    },
    {
      "cell_type": "code",
      "metadata": {
        "id": "0P1IsQskBTiO"
      },
      "source": [
        ""
      ],
      "execution_count": null,
      "outputs": []
    },
    {
      "cell_type": "code",
      "metadata": {
        "id": "fk5cgg0oAOIR"
      },
      "source": [
        ""
      ],
      "execution_count": null,
      "outputs": []
    },
    {
      "cell_type": "code",
      "metadata": {
        "colab": {
          "base_uri": "https://localhost:8080/"
        },
        "id": "_J_v5qvB-lyT",
        "outputId": "fd652c72-f392-4062-a7cc-c044a2ef80c0"
      },
      "source": [
        ""
      ],
      "execution_count": 112,
      "outputs": [
        {
          "output_type": "stream",
          "name": "stdout",
          "text": [
            "clean vehicle 2336\n",
            "salvage insurance 163\n"
          ]
        }
      ]
    },
    {
      "cell_type": "code",
      "metadata": {
        "colab": {
          "base_uri": "https://localhost:8080/"
        },
        "id": "mMpaWszG-bRH",
        "outputId": "a740a4ce-fdf0-43a0-d2bd-8007363311bd"
      },
      "source": [
        "for country in df['country'].unique():\n",
        "  print(country , len(df[df['country'] == country]))"
      ],
      "execution_count": 115,
      "outputs": [
        {
          "output_type": "stream",
          "name": "stdout",
          "text": [
            " usa 2492\n",
            " canada 7\n"
          ]
        }
      ]
    },
    {
      "cell_type": "code",
      "metadata": {
        "colab": {
          "base_uri": "https://localhost:8080/"
        },
        "id": "42V_2-eQ-K5y",
        "outputId": "a33ecd0e-00b1-4293-e39d-792235845421"
      },
      "source": [
        "for year in df['year'].unique():\n",
        "  print(year , len(df[df['year'] == year]))"
      ],
      "execution_count": 107,
      "outputs": [
        {
          "output_type": "stream",
          "name": "stdout",
          "text": [
            "2008 18\n",
            "2011 23\n",
            "2018 395\n",
            "2014 104\n",
            "2010 13\n",
            "2017 377\n",
            "2009 11\n",
            "2013 86\n",
            "2015 196\n",
            "2020 48\n",
            "2016 203\n",
            "1973 1\n",
            "2003 9\n",
            "2019 892\n",
            "2002 2\n",
            "2000 4\n",
            "2001 5\n",
            "2005 6\n",
            "2012 72\n",
            "2006 8\n",
            "2007 6\n",
            "1998 4\n",
            "2004 6\n",
            "1994 2\n",
            "1997 2\n",
            "1996 2\n",
            "1999 1\n",
            "1984 1\n",
            "1995 1\n",
            "1993 1\n"
          ]
        }
      ]
    },
    {
      "cell_type": "code",
      "metadata": {
        "colab": {
          "base_uri": "https://localhost:8080/"
        },
        "id": "J-2DB-iu504B",
        "outputId": "e98115a8-356c-4b70-f6b7-4af99b9e058c"
      },
      "source": [
        "for model in df['model'].unique():\n",
        "  print(model , len(df[df['model'] == model]))"
      ],
      "execution_count": 106,
      "outputs": [
        {
          "output_type": "stream",
          "name": "stdout",
          "text": [
            "cruiser 1\n",
            "se 1\n",
            "mpv 87\n",
            "door 651\n",
            "1500 39\n",
            "pk 5\n",
            "malibu 12\n",
            "coupe 6\n",
            "wagon 30\n",
            "forte 2\n",
            "encore 3\n",
            "sorento 5\n",
            "doors 148\n",
            "chassis 4\n",
            "q70 1\n",
            "camaro 6\n",
            "convertible 1\n",
            "vans 2\n",
            "srw 38\n",
            "compass 6\n",
            "enclave 2\n",
            "300 6\n",
            "cherokee 3\n",
            "pacifica 3\n",
            "x3 2\n",
            "equinox 18\n",
            "challenger 44\n",
            "m 1\n",
            "colorado 12\n",
            "focus 9\n",
            "durango 64\n",
            "escape 39\n",
            "charger 42\n",
            "explorer 39\n",
            "f-150 219\n",
            "3500 4\n",
            "caravan 102\n",
            "van 46\n",
            "dart 1\n",
            "2500 8\n",
            "esv 1\n",
            "cutaway 12\n",
            "el 3\n",
            "edge 34\n",
            "series 8\n",
            "flex 33\n",
            "srx 1\n",
            "cab 8\n",
            "pickup 15\n",
            "vehicl 1\n",
            "trax 8\n",
            "tahoe 9\n",
            "suburban 16\n",
            "cargo 2\n",
            "drw 10\n",
            "fiesta 14\n",
            "impala 12\n",
            "soul 1\n",
            "elantra 1\n",
            "pioneer 1\n",
            "trail 1\n",
            "traverse 6\n",
            "country 2\n",
            "sundance 1\n",
            "road/street 1\n",
            "nautilus 1\n",
            "gx 1\n",
            "q5 1\n",
            "gle 2\n",
            "sportage 1\n",
            "5 1\n",
            "sport 40\n",
            "discovery 1\n",
            "acadia 1\n",
            "ghibli 1\n",
            "glc 1\n",
            "e-class 1\n",
            "truck 4\n",
            "utility 1\n",
            "limited 1\n",
            "sl-class 1\n",
            "cx-3 1\n",
            "2500hd 1\n",
            "sonic 2\n",
            "corvette 4\n",
            "mdx 1\n",
            "xt5 1\n",
            "fusion 65\n",
            "mustang 29\n",
            "passenger 3\n",
            "volt 2\n",
            "spark 1\n",
            "cruze 2\n",
            "ld 3\n",
            "journey 61\n",
            "transit 41\n",
            "ranger 6\n",
            "taurus 10\n",
            "max 41\n",
            "energi 1\n",
            "expedition 28\n",
            "bus 2\n",
            "ecosport 7\n",
            "f-750 1\n",
            "d 2\n",
            "dr 1\n",
            "hybrid 5\n",
            "suv 1\n",
            "connect 1\n",
            "f-650 3\n",
            "sentra 28\n",
            "altima 21\n",
            "frontier 14\n",
            "rogue 54\n",
            "maxima 3\n",
            "versa 34\n",
            "note 2\n",
            "armada 4\n",
            "pathfinder 22\n",
            "titan 5\n",
            "sedan 4\n",
            "juke 1\n",
            "murano 5\n",
            "xterra 1\n",
            "kicks 1\n",
            "xd 1\n",
            "nvp 1\n"
          ]
        }
      ]
    },
    {
      "cell_type": "code",
      "metadata": {
        "colab": {
          "base_uri": "https://localhost:8080/"
        },
        "id": "4ueu-6DB6HZC",
        "outputId": "0ad194c9-e9dc-4fb5-e5ac-694497ca2a14"
      },
      "source": [
        "for brand in df['brand'].unique():\n",
        "  print(brand , len(df[df['brand'] == brand]))"
      ],
      "execution_count": 105,
      "outputs": [
        {
          "output_type": "stream",
          "name": "stdout",
          "text": [
            "toyota 1\n",
            "ford 1235\n",
            "dodge 432\n",
            "chevrolet 297\n",
            "gmc 42\n",
            "chrysler 18\n",
            "kia 13\n",
            "buick 13\n",
            "infiniti 12\n",
            "mercedes-benz 10\n",
            "jeep 30\n",
            "bmw 17\n",
            "cadillac 10\n",
            "hyundai 15\n",
            "mazda 2\n",
            "honda 12\n",
            "heartland 5\n",
            "jaguar 1\n",
            "acura 3\n",
            "harley-davidson 1\n",
            "audi 4\n",
            "lincoln 2\n",
            "lexus 2\n",
            "nissan 312\n",
            "land 4\n",
            "maserati 1\n",
            "peterbilt 4\n",
            "ram 1\n"
          ]
        }
      ]
    },
    {
      "cell_type": "code",
      "metadata": {
        "colab": {
          "base_uri": "https://localhost:8080/"
        },
        "id": "OouobKKa7MQo",
        "outputId": "0a8d51e5-369e-481d-a64b-dcae6001faf2"
      },
      "source": [
        "df['year'].unique()"
      ],
      "execution_count": 91,
      "outputs": [
        {
          "output_type": "execute_result",
          "data": {
            "text/plain": [
              "array([2008, 2011, 2018, 2014, 2010, 2017, 2009, 2013, 2015, 2020, 2016,\n",
              "       1973, 2003, 2019, 2002, 2000, 2001, 2005, 2012, 2006, 2007, 1998,\n",
              "       2004, 1994, 1997, 1996, 1999, 1984, 1995, 1993])"
            ]
          },
          "metadata": {},
          "execution_count": 91
        }
      ]
    },
    {
      "cell_type": "code",
      "metadata": {
        "colab": {
          "base_uri": "https://localhost:8080/"
        },
        "id": "wSgmZf7m8DFX",
        "outputId": "b0594600-fe58-45f1-dcf3-bb26bdaf20ac"
      },
      "source": [
        "df['title_status'].unique()"
      ],
      "execution_count": 92,
      "outputs": [
        {
          "output_type": "execute_result",
          "data": {
            "text/plain": [
              "array(['clean vehicle', 'salvage insurance'], dtype=object)"
            ]
          },
          "metadata": {},
          "execution_count": 92
        }
      ]
    },
    {
      "cell_type": "code",
      "metadata": {
        "colab": {
          "base_uri": "https://localhost:8080/"
        },
        "id": "DpF_ufgW8QYh",
        "outputId": "dbcd5a77-d208-4d6f-fe96-21da01a14700"
      },
      "source": [
        "df['color'].unique()"
      ],
      "execution_count": 93,
      "outputs": [
        {
          "output_type": "execute_result",
          "data": {
            "text/plain": [
              "array(['black', 'silver', 'blue', 'red', 'white', 'gray', 'orange',\n",
              "       'brown', 'no_color', 'gold', 'charcoal', 'turquoise', 'beige',\n",
              "       'green', 'dark blue', 'maroon', 'phantom black', 'yellow',\n",
              "       'color:', 'light blue', 'toreador red', 'bright white clearcoat',\n",
              "       'billet silver metallic clearcoat', 'black clearcoat',\n",
              "       'jazz blue pearlcoat', 'purple',\n",
              "       'ruby red metallic tinted clearcoat', 'triple yellow tri-coat',\n",
              "       'competition orange', 'off-white', 'shadow black',\n",
              "       'magnetic metallic', 'ingot silver metallic', 'ruby red',\n",
              "       'royal crimson metallic tinted clearcoat', 'kona blue metallic',\n",
              "       'oxford white', 'lightning blue', 'ingot silver',\n",
              "       'white platinum tri-coat metallic', 'guard',\n",
              "       'tuxedo black metallic', 'tan', 'burgundy', 'super black',\n",
              "       'cayenne red', 'morningsky blue', 'pearl white', 'glacier white'],\n",
              "      dtype=object)"
            ]
          },
          "metadata": {},
          "execution_count": 93
        }
      ]
    },
    {
      "cell_type": "code",
      "metadata": {
        "id": "7NZpF46n8ZRK"
      },
      "source": [
        ""
      ],
      "execution_count": null,
      "outputs": []
    }
  ]
}