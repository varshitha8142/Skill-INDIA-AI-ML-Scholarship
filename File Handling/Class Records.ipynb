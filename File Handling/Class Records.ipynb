{
 "cells": [
  {
   "cell_type": "code",
   "execution_count": 32,
   "metadata": {
    "scrolled": true
   },
   "outputs": [
    {
     "name": "stdout",
     "output_type": "stream",
     "text": [
      "Enter the name: Rahul\n",
      "Enter the roll_no: 1\n",
      "Enter marks in hindi: 4\n",
      "Enter marks in eng: 5\n",
      "Enter marks in sci: 4\n"
     ]
    }
   ],
   "source": [
    "fd = open('Record.txt','a')\n",
    "\n",
    "\n",
    "name = raw_input(\"Enter the name: \")\n",
    "roll_no = int(input(\"Enter the roll_no: \"))\n",
    "hindi = int(input(\"Enter marks in hindi: \"))\n",
    "eng = int(input(\"Enter marks in eng: \"))\n",
    "sci = int(input(\"Enter marks in sci: \"))\n",
    "\n",
    "data = name + \",\" + str(roll_no) + \",\" + str(hindi) + \",\" + str(eng) + \",\" + str(sci) + \"\\n\"\n",
    "\n",
    "fd.write(data)\n",
    "\n",
    "fd.close()"
   ]
  },
  {
   "cell_type": "markdown",
   "metadata": {},
   "source": [
    "s\n",
    "### "
   ]
  }
 ],
 "metadata": {
  "kernelspec": {
   "display_name": "Python 2",
   "language": "python",
   "name": "python2"
  },
  "language_info": {
   "codemirror_mode": {
    "name": "ipython",
    "version": 2
   },
   "file_extension": ".py",
   "mimetype": "text/x-python",
   "name": "python",
   "nbconvert_exporter": "python",
   "pygments_lexer": "ipython2",
   "version": "2.7.16"
  }
 },
 "nbformat": 4,
 "nbformat_minor": 2
}
